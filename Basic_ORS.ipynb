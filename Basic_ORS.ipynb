{
 "cells": [
  {
   "cell_type": "markdown",
   "metadata": {},
   "source": [
    "Lets try and implement Open route service. Ideally quickly.\n",
    "https://github.com/GIScience/openrouteservice-py"
   ]
  },
  {
   "cell_type": "code",
   "execution_count": 1,
   "metadata": {},
   "outputs": [
    {
     "name": "stdout",
     "output_type": "stream",
     "text": [
      "zsh:1: command not found: poetry\n"
     ]
    }
   ],
   "source": [
    "!python -m venv .venv && source .venv/bin/activate\n",
    "!poetry install -vv"
   ]
  },
  {
   "cell_type": "code",
   "execution_count": 3,
   "metadata": {},
   "outputs": [
    {
     "name": "stdout",
     "output_type": "stream",
     "text": [
      "Collecting openrouteservice\n",
      "  Downloading openrouteservice-2.3.3-py3-none-any.whl (33 kB)\n",
      "Requirement already satisfied: requests>=2.0 in /Users/rohitzacharia/.pyenv/versions/3.11.3/lib/python3.11/site-packages (from openrouteservice) (2.31.0)\n",
      "Requirement already satisfied: charset-normalizer<4,>=2 in /Users/rohitzacharia/.pyenv/versions/3.11.3/lib/python3.11/site-packages (from requests>=2.0->openrouteservice) (3.2.0)\n",
      "Requirement already satisfied: idna<4,>=2.5 in /Users/rohitzacharia/.pyenv/versions/3.11.3/lib/python3.11/site-packages (from requests>=2.0->openrouteservice) (3.4)\n",
      "Requirement already satisfied: urllib3<3,>=1.21.1 in /Users/rohitzacharia/.pyenv/versions/3.11.3/lib/python3.11/site-packages (from requests>=2.0->openrouteservice) (2.0.4)\n",
      "Requirement already satisfied: certifi>=2017.4.17 in /Users/rohitzacharia/.pyenv/versions/3.11.3/lib/python3.11/site-packages (from requests>=2.0->openrouteservice) (2023.7.22)\n",
      "Installing collected packages: openrouteservice\n",
      "Successfully installed openrouteservice-2.3.3\n",
      "\n",
      "\u001b[1m[\u001b[0m\u001b[34;49mnotice\u001b[0m\u001b[1;39;49m]\u001b[0m\u001b[39;49m A new release of pip available: \u001b[0m\u001b[31;49m22.3.1\u001b[0m\u001b[39;49m -> \u001b[0m\u001b[32;49m23.2.1\u001b[0m\n",
      "\u001b[1m[\u001b[0m\u001b[34;49mnotice\u001b[0m\u001b[1;39;49m]\u001b[0m\u001b[39;49m To update, run: \u001b[0m\u001b[32;49mpip install --upgrade pip\u001b[0m\n"
     ]
    }
   ],
   "source": [
    "!pip install openrouteservice"
   ]
  },
  {
   "cell_type": "markdown",
   "metadata": {},
   "source": [
    "Lets try and test it."
   ]
  },
  {
   "cell_type": "markdown",
   "metadata": {},
   "source": [
    "Give me a list of routes please!"
   ]
  },
  {
   "cell_type": "code",
   "execution_count": 6,
   "metadata": {},
   "outputs": [
    {
     "name": "stdout",
     "output_type": "stream",
     "text": [
      "{'bbox': [8.327725, 48.231953, 8.345244, 48.263552], 'routes': [{'summary': {'distance': 5477.4, 'duration': 803.6}, 'segments': [{'distance': 5477.4, 'duration': 803.6, 'steps': [{'distance': 247.2, 'duration': 59.3, 'type': 11, 'instruction': 'Head south on Benatweg', 'name': 'Benatweg', 'way_points': [0, 8]}, {'distance': 51.8, 'duration': 12.4, 'type': 6, 'instruction': 'Continue straight onto Benatweg', 'name': 'Benatweg', 'way_points': [8, 10]}, {'distance': 1684.0, 'duration': 134.7, 'type': 1, 'instruction': 'Turn right onto Hölzle, K 5528', 'name': 'Hölzle, K 5528', 'way_points': [10, 64]}, {'distance': 263.7, 'duration': 31.6, 'type': 1, 'instruction': 'Turn right', 'name': '-', 'way_points': [64, 73]}, {'distance': 301.9, 'duration': 36.2, 'type': 0, 'instruction': 'Turn left', 'name': '-', 'way_points': [73, 85]}, {'distance': 535.6, 'duration': 64.3, 'type': 0, 'instruction': 'Turn left', 'name': '-', 'way_points': [85, 96]}, {'distance': 248.1, 'duration': 29.8, 'type': 13, 'instruction': 'Keep right', 'name': '-', 'way_points': [96, 104]}, {'distance': 286.6, 'duration': 51.6, 'type': 1, 'instruction': 'Turn right', 'name': '-', 'way_points': [104, 112]}, {'distance': 257.5, 'duration': 46.4, 'type': 12, 'instruction': 'Keep left', 'name': '-', 'way_points': [112, 118]}, {'distance': 357.9, 'duration': 64.4, 'type': 13, 'instruction': 'Keep right', 'name': '-', 'way_points': [118, 128]}, {'distance': 12.1, 'duration': 2.9, 'type': 6, 'instruction': 'Continue straight', 'name': '-', 'way_points': [128, 129]}, {'distance': 573.2, 'duration': 112.1, 'type': 12, 'instruction': 'Keep left', 'name': '-', 'way_points': [129, 145]}, {'distance': 37.6, 'duration': 9.0, 'type': 0, 'instruction': 'Turn left', 'name': '-', 'way_points': [145, 147]}, {'distance': 469.9, 'duration': 112.8, 'type': 12, 'instruction': 'Keep left', 'name': '-', 'way_points': [147, 161]}, {'distance': 150.3, 'duration': 36.1, 'type': 2, 'instruction': 'Turn sharp left', 'name': '-', 'way_points': [161, 165]}, {'distance': 0.0, 'duration': 0.0, 'type': 10, 'instruction': 'Arrive at your destination, on the right', 'name': '-', 'way_points': [165, 165]}]}], 'bbox': [8.327725, 48.231953, 8.345244, 48.263552], 'geometry': 'mtkeHuv|q@~@VhAf@PR|@hBt@j@^n@L\\\\NjAX`BNXqAlFM^kArAoAfBs@^WFY?{Be@[?WJWRi@t@Q^]`AQRULoAPWHOL]h@mA`C_@d@oAdAkCrBc@Ra@HQByBAsAH[FWH[TaA~@aAj@[J]@aAKM?WN_@h@yCrFW\\\\wAx@WTWXQZ_@fAMPUPWJuAVw@XiAh@URYOMGM[kAkEYiB]}@s@sASWUOaA`Bs@j@MPi@pBU^Y\\\\u@v@QL[PW@WEu@[GXoArEiAlCwBfG[p@a@l@g@f@_Ah@mAn@{@V}A\\\\wATU@UEoAe@g@MaAMaACu@Uk@kE[oAU{A]w@i@}@USwAy@OOy@iAu@c@m@Ok@A{BJmBXqBkBsA}@{Ao@eB@]GKIMKO_@a@_CSo@I]u@sCQc@kAyBWS_@SaAE{@yAu@mDUsAqA}@EM@QTiA|@iAn@gAd@eAg@_@I]k@i@yBkEa@}@W}@WkCUqC?_@Hg@ZqABg@Gm@YoAEgAMq@DhFC`@{@rACH', 'way_points': [0, 165], 'legs': []}], 'metadata': {'attribution': 'openrouteservice.org | OpenStreetMap contributors', 'service': 'routing', 'timestamp': 1694881881726, 'query': {'coordinates': [[8.34234, 48.23424], [8.34423, 48.26424]], 'profile': 'driving-car', 'format': 'json'}, 'engine': {'version': '7.1.0', 'build_date': '2023-07-09T01:31:50Z', 'graph_date': '2023-09-03T10:10:37Z'}}}\n"
     ]
    }
   ],
   "source": [
    "import openrouteservice\n",
    "\n",
    "coords = ((8.34234,48.23424),(8.34423,48.26424))\n",
    "\n",
    "client = openrouteservice.Client(key='5b3ce3597851110001cf6248f5bd04972a564fcdad6e3b2fdc172d39') # Specify your personal API key\n",
    "routes = client.directions(coords)\n",
    "\n",
    "print(routes)"
   ]
  },
  {
   "cell_type": "markdown",
   "metadata": {},
   "source": [
    "Lets get an optimization going."
   ]
  },
  {
   "cell_type": "code",
   "execution_count": 2,
   "metadata": {},
   "outputs": [
    {
     "name": "stdout",
     "output_type": "stream",
     "text": [
      "{'bbox': [8.327725, 48.214297, 8.416962, 48.267492], 'metadata': {'attribution': 'openrouteservice.org | OpenStreetMap contributors', 'service': 'routing', 'timestamp': 1694882047047, 'query': {'coordinates': [[8.34234, 48.23424], [8.34523, 48.24424], [8.34423, 48.26424], [8.41423, 48.21424]], 'profile': 'cycling-regular', 'format': 'json'}, 'engine': {'version': '7.1.0', 'build_date': '2023-07-09T01:31:50Z', 'graph_date': '2023-09-03T18:14:00Z'}}, 'routes': [{'summary': {'distance': 19052.0, 'duration': 4654.3}, 'segments': [{'distance': 2154.9, 'duration': 543.7, 'steps': [{'distance': 19.3, 'duration': 5.8, 'type': 11, 'instruction': 'Head southwest', 'name': '-', 'way_points': [0, 1]}, {'distance': 160.1, 'duration': 57.6, 'type': 0, 'instruction': 'Turn left', 'name': '-', 'way_points': [1, 10]}, {'distance': 120.0, 'duration': 24.0, 'type': 0, 'instruction': 'Turn left onto Benatweg', 'name': 'Benatweg', 'way_points': [10, 18]}, {'distance': 189.9, 'duration': 38.0, 'type': 4, 'instruction': 'Turn slight left onto Imbrand', 'name': 'Imbrand', 'way_points': [18, 30]}, {'distance': 271.7, 'duration': 54.3, 'type': 0, 'instruction': 'Turn left onto Imbrand', 'name': 'Imbrand', 'way_points': [30, 39]}, {'distance': 667.2, 'duration': 133.4, 'type': 2, 'instruction': 'Turn sharp left onto Imbrand', 'name': 'Imbrand', 'way_points': [39, 58]}, {'distance': 566.1, 'duration': 169.8, 'type': 1, 'instruction': 'Turn right', 'name': '-', 'way_points': [58, 71]}, {'distance': 83.1, 'duration': 37.4, 'type': 5, 'instruction': 'Turn slight right', 'name': '-', 'way_points': [71, 75]}, {'distance': 77.5, 'duration': 23.2, 'type': 4, 'instruction': 'Turn slight left', 'name': '-', 'way_points': [75, 78]}, {'distance': 0.0, 'duration': 0.0, 'type': 10, 'instruction': 'Arrive at your destination, on the right', 'name': '-', 'way_points': [78, 78]}]}, {'distance': 4590.2, 'duration': 1207.0, 'steps': [{'distance': 65.1, 'duration': 19.5, 'type': 11, 'instruction': 'Head north', 'name': '-', 'way_points': [78, 80]}, {'distance': 430.7, 'duration': 129.2, 'type': 0, 'instruction': 'Turn left', 'name': '-', 'way_points': [80, 89]}, {'distance': 383.1, 'duration': 114.9, 'type': 1, 'instruction': 'Turn right', 'name': '-', 'way_points': [89, 103]}, {'distance': 217.9, 'duration': 49.0, 'type': 0, 'instruction': 'Turn left', 'name': '-', 'way_points': [103, 106]}, {'distance': 1100.2, 'duration': 233.6, 'type': 13, 'instruction': 'Keep right', 'name': '-', 'way_points': [106, 130]}, {'distance': 248.1, 'duration': 55.8, 'type': 13, 'instruction': 'Keep right', 'name': '-', 'way_points': [130, 138]}, {'distance': 286.6, 'duration': 73.7, 'type': 1, 'instruction': 'Turn right', 'name': '-', 'way_points': [138, 146]}, {'distance': 257.5, 'duration': 66.2, 'type': 12, 'instruction': 'Keep left', 'name': '-', 'way_points': [146, 152]}, {'distance': 357.9, 'duration': 92.0, 'type': 13, 'instruction': 'Keep right', 'name': '-', 'way_points': [152, 162]}, {'distance': 12.1, 'duration': 3.6, 'type': 6, 'instruction': 'Continue straight', 'name': '-', 'way_points': [162, 163]}, {'distance': 573.2, 'duration': 172.0, 'type': 12, 'instruction': 'Keep left', 'name': '-', 'way_points': [163, 179]}, {'distance': 37.6, 'duration': 11.3, 'type': 0, 'instruction': 'Turn left', 'name': '-', 'way_points': [179, 181]}, {'distance': 469.9, 'duration': 141.0, 'type': 12, 'instruction': 'Keep left', 'name': '-', 'way_points': [181, 195]}, {'distance': 150.3, 'duration': 45.1, 'type': 2, 'instruction': 'Turn sharp left', 'name': '-', 'way_points': [195, 199]}, {'distance': 0.0, 'duration': 0.0, 'type': 10, 'instruction': 'Arrive at your destination, on the left', 'name': '-', 'way_points': [199, 199]}]}, {'distance': 12306.9, 'duration': 2903.6, 'steps': [{'distance': 1143.7, 'duration': 343.1, 'type': 11, 'instruction': 'Head southeast', 'name': '-', 'way_points': [199, 227]}, {'distance': 28.9, 'duration': 8.7, 'type': 3, 'instruction': 'Turn sharp right', 'name': '-', 'way_points': [227, 228]}, {'distance': 164.2, 'duration': 49.3, 'type': 12, 'instruction': 'Keep left', 'name': '-', 'way_points': [228, 234]}, {'distance': 805.4, 'duration': 241.6, 'type': 5, 'instruction': 'Turn slight right', 'name': '-', 'way_points': [234, 258]}, {'distance': 628.8, 'duration': 188.6, 'type': 1, 'instruction': 'Turn right', 'name': '-', 'way_points': [258, 279]}, {'distance': 507.3, 'duration': 152.2, 'type': 3, 'instruction': 'Turn sharp right', 'name': '-', 'way_points': [279, 295]}, {'distance': 13.3, 'duration': 3.4, 'type': 4, 'instruction': 'Turn slight left', 'name': '-', 'way_points': [295, 296]}, {'distance': 3622.2, 'duration': 724.4, 'type': 1, 'instruction': 'Turn right onto 4252', 'name': '4252', 'way_points': [296, 394]}, {'distance': 145.3, 'duration': 29.1, 'type': 6, 'instruction': 'Continue straight onto Schiltachstraße', 'name': 'Schiltachstraße', 'way_points': [394, 399]}, {'distance': 794.0, 'duration': 165.4, 'type': 4, 'instruction': 'Turn slight left onto Schiltachstraße', 'name': 'Schiltachstraße', 'way_points': [399, 422]}, {'distance': 7.0, 'duration': 3.2, 'type': 1, 'instruction': 'Turn right', 'name': '-', 'way_points': [422, 423]}, {'distance': 102.5, 'duration': 46.1, 'type': 0, 'instruction': 'Turn left', 'name': '-', 'way_points': [423, 427]}, {'distance': 50.0, 'duration': 10.0, 'type': 1, 'instruction': 'Turn right onto Hauptstraße', 'name': 'Hauptstraße', 'way_points': [427, 429]}, {'distance': 101.4, 'duration': 60.8, 'type': 0, 'instruction': 'Turn left onto An der Steige', 'name': 'An der Steige', 'way_points': [429, 433]}, {'distance': 2316.5, 'duration': 494.8, 'type': 13, 'instruction': 'Keep right onto An der Steige', 'name': 'An der Steige', 'way_points': [433, 500]}, {'distance': 488.7, 'duration': 97.7, 'type': 1, 'instruction': 'Turn right onto Hohlgasse', 'name': 'Hohlgasse', 'way_points': [500, 518]}, {'distance': 79.4, 'duration': 15.9, 'type': 1, 'instruction': 'Turn right onto Lindenstraße', 'name': 'Lindenstraße', 'way_points': [518, 522]}, {'distance': 61.0, 'duration': 12.2, 'type': 1, 'instruction': 'Turn right onto Kirchplatz', 'name': 'Kirchplatz', 'way_points': [522, 524]}, {'distance': 63.1, 'duration': 12.6, 'type': 1, 'instruction': 'Turn right onto Hörnlestraße', 'name': 'Hörnlestraße', 'way_points': [524, 527]}, {'distance': 14.2, 'duration': 2.8, 'type': 0, 'instruction': 'Turn left onto Bergstraße', 'name': 'Bergstraße', 'way_points': [527, 528]}, {'distance': 429.0, 'duration': 85.8, 'type': 1, 'instruction': 'Turn right onto Bergstraße', 'name': 'Bergstraße', 'way_points': [528, 540]}, {'distance': 187.6, 'duration': 37.5, 'type': 1, 'instruction': 'Turn right onto Birkenhofweg', 'name': 'Birkenhofweg', 'way_points': [540, 544]}, {'distance': 332.7, 'duration': 66.5, 'type': 4, 'instruction': 'Turn slight left onto Sulgerberg', 'name': 'Sulgerberg', 'way_points': [544, 549]}, {'distance': 86.5, 'duration': 17.3, 'type': 6, 'instruction': 'Continue straight onto Hutneck', 'name': 'Hutneck', 'way_points': [549, 551]}, {'distance': 134.2, 'duration': 34.5, 'type': 1, 'instruction': 'Turn right onto Hutneck', 'name': 'Hutneck', 'way_points': [551, 553]}, {'distance': 0.0, 'duration': 0.0, 'type': 10, 'instruction': 'Arrive at Hutneck, on the left', 'name': '-', 'way_points': [553, 553]}]}], 'bbox': [8.327725, 48.214297, 8.416962, 48.267492], 'geometry': 'stkeHwm|q@ZZHIKe@Uu@WWDq@Zy@Sm@]WDe@_Aw@IUAU?SDMHMl@[NWDYDq@DMLIz@EHCHIFa@?MGY_AyBQSSFe@Fo@GkAWWMk@e@{@eAoAmAo@k@NfE?XCTgArFWbAG`@OpASfA]lAq@zAa@jAe@|@[^aBtA_@d@iA`Bs@n@]T]NGs@EUa@c@kAm@iBcC_E{D{@_@yAaA_@u@m@sBw@s@yAUEYRkBc@SQKMOe@?eAI]Gg@IkA[k@hAkAp@u@TgAb@cBNaBFsB`B_BlAa@z@GIDMCYQQq@DoAb@qA|@qBtBkAdBK^Ad@TjBC^IPt@dFdBlFVn@nB~DL\\\\Bl@AxJG~E?lABZFR~@lCPv@d@zCD\\\\?VGXoArEiAlCwBfG[p@a@l@g@f@_Ah@mAn@{@V}A\\\\wATU@UEoAe@g@MaAMaACu@Uk@kE[oAU{A]w@i@}@USwAy@OOy@iAu@c@m@Ok@A{BJmBXqBkBsA}@{Ao@eB@]GKIMKO_@a@_CSo@I]u@sCQc@kAyBWS_@SaAE{@yAu@mDUsAqA}@EM@QTiA|@iAn@gAd@eAg@_@I]k@i@yBkEa@}@W}@WkCUqC?_@Hg@ZqABg@Gm@YoAEgAMq@DhFC`@{@rACHBIz@sABa@EiFKu@We@e@_@cBm@w@u@Ac@Ja@^c@hCeBLi@AeBOsASq@qAwBaAiAe@WaDcAoCyAWi@O{@m@kFWg@uCwCWm@p@LZO`As@r@mAh@{APURIrAd@zAP~A~@j@JTCNUTo@HeAAaDMaDDi@\\\\}CAi@u@{B[cBQWSIkBGYIwBuA]i@Wq@C_@?[lDaAZAf@]d@g@d@]Jc@?[YkCGuAFaAn@_Ch@g@x@i@hAc@FGCSiAaAgABUESQOa@^JNAROt@cARIv@Jh@Z^INo@^kC?wANqAh@eGd@qAIeBSeAO[\\\\m@Xa@\\\\Yp@]jDuAh@_@b@e@x@gA^k@b@g@f@_@^Kd@ErEKv@LlBn@n@Hn@CjEu@dAItBMjACrALlAE`Ca@pAc@ZE`@@`@L`@T`BlB^Xj@Jl@AjBg@|@e@p@s@p@k@lBo@n@Gf@DdAf@pCbCf@h@dAfBh@`@XHp@BVEj@Ur@s@jA{BtC_Hb@oAHa@D]@s@C{CBeAHeADODS\\\\g@f@i@p@YZIv@En@HPHPL`@`@LTXt@NbAJfCB`@Hh@Z~@Vb@RTp@\\\\ZF|CKx@KrAc@bAWt@]`@Wn@q@z@yAf@o@r@]vDo@v@[XQfAgAl@q@fEaGhA_B~@gAj@k@TOD@`@]t@Yj@ObAUx@[`A{@l@m@nAkATUTUNK`CgBd@Yn@[LGlD}AlDwAv@[`@Q\\\\QVYR_@X}@HJ^eAv@yA\\\\_@?MLGfA_@SqAKa@i@qBGM?UKe@U}@EQUcAIkAAWBkC@W?{@QcDC}@?sA?iAFoBBy@GyAQgCIiCIyB@QFWNg@@WAWEUYm@[c@Sg@aAmDO}@K{@IuAKuI?mDBo@n@iELeBNm@|@wAD]B[Ai@G{@Ig@?g@@UtAeNd@kDLmAR}CHyA@y@IaAiA_GSoAOeBIeB?cF?k@Dg@Lq@fAyBDQBkACkAAyClBOb@M~Ay@\\\\M^Ih@?nAfAp@Zj@Xh@JPBp@IHGb@]b@m@Ni@N]ZoA\\\\@b@Gd@O^Ul@rA\\\\b@@d@FZ`@tAXCpCpEXXVFZ?x@_Bt@eAh@k@l@q@`@cAr@}@x@o@\\\\CH^DtEB~BtAVd@SrFd@t@NtDSfAYdBcAd@c@`BdB|ApB', 'way_points': [0, 78, 199, 553], 'legs': []}]}\n"
     ]
    }
   ],
   "source": [
    "import openrouteservice\n",
    "\n",
    "coords = ((8.34234,48.23424),(8.34423,48.26424), (8.34523,48.24424), (8.41423,48.21424))\n",
    "\n",
    "client = openrouteservice.Client(key='5b3ce3597851110001cf6248f5bd04972a564fcdad6e3b2fdc172d39') # Specify your personal API key\n",
    "routes = client.directions(coords, profile='cycling-regular', optimize_waypoints=True)\n",
    "\n",
    "print(routes)"
   ]
  },
  {
   "cell_type": "code",
   "execution_count": null,
   "metadata": {},
   "outputs": [],
   "source": []
  }
 ],
 "metadata": {
  "kernelspec": {
   "display_name": "Python 3",
   "language": "python",
   "name": "python3"
  },
  "language_info": {
   "codemirror_mode": {
    "name": "ipython",
    "version": 3
   },
   "file_extension": ".py",
   "mimetype": "text/x-python",
   "name": "python",
   "nbconvert_exporter": "python",
   "pygments_lexer": "ipython3",
   "version": "3.11.3"
  },
  "orig_nbformat": 4
 },
 "nbformat": 4,
 "nbformat_minor": 2
}
