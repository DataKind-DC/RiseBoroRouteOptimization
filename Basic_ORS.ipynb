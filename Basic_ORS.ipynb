{
 "cells": [
  {
   "cell_type": "markdown",
   "metadata": {},
   "source": [
    "Lets try and implement Open route service. Ideally quickly.\n",
    "https://github.com/GIScience/openrouteservice-py"
   ]
  },
  {
   "cell_type": "code",
   "execution_count": 1,
   "metadata": {},
   "outputs": [
    {
     "name": "stdout",
     "output_type": "stream",
     "text": [
      "zsh:1: command not found: poetry\n"
     ]
    }
   ],
   "source": [
    "!python -m venv .venv && source .venv/bin/activate\n",
    "!poetry install -vv"
   ]
  },
  {
   "cell_type": "code",
   "execution_count": 3,
   "metadata": {},
   "outputs": [
    {
     "name": "stdout",
     "output_type": "stream",
     "text": [
      "Collecting openrouteservice\n",
      "  Downloading openrouteservice-2.3.3-py3-none-any.whl (33 kB)\n",
      "Requirement already satisfied: requests>=2.0 in /Users/rohitzacharia/.pyenv/versions/3.11.3/lib/python3.11/site-packages (from openrouteservice) (2.31.0)\n",
      "Requirement already satisfied: charset-normalizer<4,>=2 in /Users/rohitzacharia/.pyenv/versions/3.11.3/lib/python3.11/site-packages (from requests>=2.0->openrouteservice) (3.2.0)\n",
      "Requirement already satisfied: idna<4,>=2.5 in /Users/rohitzacharia/.pyenv/versions/3.11.3/lib/python3.11/site-packages (from requests>=2.0->openrouteservice) (3.4)\n",
      "Requirement already satisfied: urllib3<3,>=1.21.1 in /Users/rohitzacharia/.pyenv/versions/3.11.3/lib/python3.11/site-packages (from requests>=2.0->openrouteservice) (2.0.4)\n",
      "Requirement already satisfied: certifi>=2017.4.17 in /Users/rohitzacharia/.pyenv/versions/3.11.3/lib/python3.11/site-packages (from requests>=2.0->openrouteservice) (2023.7.22)\n",
      "Installing collected packages: openrouteservice\n",
      "Successfully installed openrouteservice-2.3.3\n",
      "\n",
      "\u001b[1m[\u001b[0m\u001b[34;49mnotice\u001b[0m\u001b[1;39;49m]\u001b[0m\u001b[39;49m A new release of pip available: \u001b[0m\u001b[31;49m22.3.1\u001b[0m\u001b[39;49m -> \u001b[0m\u001b[32;49m23.2.1\u001b[0m\n",
      "\u001b[1m[\u001b[0m\u001b[34;49mnotice\u001b[0m\u001b[1;39;49m]\u001b[0m\u001b[39;49m To update, run: \u001b[0m\u001b[32;49mpip install --upgrade pip\u001b[0m\n"
     ]
    }
   ],
   "source": [
    "!pip install openrouteservice"
   ]
  },
  {
   "cell_type": "markdown",
   "metadata": {},
   "source": [
    "Lets try and test it."
   ]
  },
  {
   "cell_type": "markdown",
   "metadata": {},
   "source": [
    "Give me a list of routes please!"
   ]
  },
  {
   "cell_type": "code",
   "execution_count": 20,
   "metadata": {},
   "outputs": [
    {
     "name": "stdout",
     "output_type": "stream",
     "text": [
      "{'bbox': [-73.986123, 40.658488, -73.943234, 40.695703], 'routes': [{'summary': {'distance': 7967.0, 'duration': 931.9}, 'segments': [{'distance': 7967.0, 'duration': 931.9, 'steps': [{'distance': 122.5, 'duration': 29.4, 'type': 11, 'instruction': 'Head northeast on Howard Place', 'name': 'Howard Place', 'way_points': [0, 1]}, {'distance': 78.3, 'duration': 18.8, 'type': 0, 'instruction': 'Turn left onto Windsor Place', 'name': 'Windsor Place', 'way_points': [1, 2]}, {'distance': 130.6, 'duration': 31.3, 'type': 0, 'instruction': 'Turn left onto Prospect Park West', 'name': 'Prospect Park West', 'way_points': [2, 6]}, {'distance': 475.0, 'duration': 34.2, 'type': 1, 'instruction': 'Turn right onto Prospect Avenue', 'name': 'Prospect Avenue', 'way_points': [6, 9]}, {'distance': 2109.1, 'duration': 162.4, 'type': 1, 'instruction': 'Turn right onto 7th Avenue', 'name': '7th Avenue', 'way_points': [9, 35]}, {'distance': 49.3, 'duration': 11.8, 'type': 1, 'instruction': 'Turn right onto Park Place', 'name': 'Park Place', 'way_points': [35, 37]}, {'distance': 32.4, 'duration': 7.8, 'type': 6, 'instruction': 'Continue straight onto Park Place', 'name': 'Park Place', 'way_points': [37, 38]}, {'distance': 563.3, 'duration': 130.9, 'type': 0, 'instruction': 'Turn left onto Carlton Avenue', 'name': 'Carlton Avenue', 'way_points': [38, 46]}, {'distance': 547.7, 'duration': 78.7, 'type': 3, 'instruction': 'Turn sharp right onto Atlantic Avenue', 'name': 'Atlantic Avenue', 'way_points': [46, 54]}, {'distance': 1384.6, 'duration': 88.3, 'type': 2, 'instruction': 'Turn sharp left onto Washington Avenue', 'name': 'Washington Avenue', 'way_points': [54, 64]}, {'distance': 1748.7, 'duration': 207.6, 'type': 1, 'instruction': 'Turn right onto Myrtle Avenue', 'name': 'Myrtle Avenue', 'way_points': [64, 85]}, {'distance': 165.6, 'duration': 29.8, 'type': 1, 'instruction': 'Turn right onto Tompkins Avenue', 'name': 'Tompkins Avenue', 'way_points': [85, 87]}, {'distance': 242.5, 'duration': 43.7, 'type': 0, 'instruction': 'Turn left onto Willoughby Avenue', 'name': 'Willoughby Avenue', 'way_points': [87, 88]}, {'distance': 82.2, 'duration': 14.8, 'type': 0, 'instruction': 'Turn left onto Throop Avenue', 'name': 'Throop Avenue', 'way_points': [88, 89]}, {'distance': 235.2, 'duration': 42.3, 'type': 0, 'instruction': 'Turn left onto Vernon Avenue', 'name': 'Vernon Avenue', 'way_points': [89, 90]}, {'distance': 0.0, 'duration': 0.0, 'type': 10, 'instruction': 'Arrive at Vernon Avenue, straight ahead', 'name': '-', 'way_points': [90, 90]}]}], 'bbox': [-73.986123, 40.658488, -73.943234, 40.695703], 'geometry': 'qbdwFlkpbMyD{CiAzCf@b@h@b@dBrAJL}AzCkDzGiGvLyBgBwBeBwBcByBcBwBcBwBeBwBcByBcBuBcByBeBwBcByBcBwBeBwBcBwBcBwBcByBcBwBcBoDsC}BuA_CuA}BuA}BuAoCaB}BsA}BwAXcAFe@NiAmD_AoD_AmD}@yCw@yCu@QGiBe@SDv@iGVoBTqB\\\\kCR}ANoA|@eH^wC_@DqJfAmHz@uLvAeHz@aD`@aCZWHiKlA{H|@UaEG}@MyBUyDSwDUyDY_FUyDSiDGoAKaBIsASuDGgAMuBU{DSqDSsDWwDiAoS_AwPrC]pC[aAyPqC\\\\~@fP', 'way_points': [0, 90], 'legs': []}], 'metadata': {'attribution': 'openrouteservice.org | OpenStreetMap contributors', 'service': 'routing', 'timestamp': 1694886502059, 'query': {'coordinates': [[-73.9808731, 40.6584876], [-73.9461372, 40.6949719]], 'profile': 'driving-car', 'format': 'json'}, 'engine': {'version': '7.1.0', 'build_date': '2023-07-09T01:31:50Z', 'graph_date': '2023-09-03T10:10:37Z'}}}\n"
     ]
    }
   ],
   "source": [
    "import openrouteservice\n",
    "\n",
    "# coords = ((40.6584876,-73.9808731),(40.6949719,-73.9461372))\n",
    "coords = ((-73.9808731, 40.6584876), (-73.9461372, 40.6949719))\n",
    "# coords = ((8.34234,48.23424),(8.34423,48.26424))\n",
    "\n",
    "client = openrouteservice.Client(key='5b3ce3597851110001cf6248f5bd04972a564fcdad6e3b2fdc172d39') # Specify your personal API key\n",
    "routes = client.directions(coords)\n",
    "\n",
    "print(routes)"
   ]
  },
  {
   "cell_type": "markdown",
   "metadata": {},
   "source": [
    "Lets get an optimization going."
   ]
  },
  {
   "cell_type": "code",
   "execution_count": 21,
   "metadata": {},
   "outputs": [
    {
     "name": "stdout",
     "output_type": "stream",
     "text": [
      "{'bbox': [-74.000029, 40.641876, -73.898828, 40.697315], 'routes': [{'summary': {'distance': 24290.5, 'duration': 2442.0}, 'segments': [{'distance': 5337.0, 'duration': 596.2, 'steps': [{'distance': 91.6, 'duration': 14.9, 'type': 11, 'instruction': 'Head west on Joralemon Street', 'name': 'Joralemon Street', 'way_points': [0, 2]}, {'distance': 2216.4, 'duration': 236.5, 'type': 0, 'instruction': 'Turn left onto Court Street', 'name': 'Court Street', 'way_points': [2, 38]}, {'distance': 1031.2, 'duration': 121.5, 'type': 0, 'instruction': 'Turn left onto Hamilton Avenue', 'name': 'Hamilton Avenue', 'way_points': [38, 57]}, {'distance': 1431.8, 'duration': 129.9, 'type': 0, 'instruction': 'Turn left onto 19th Street', 'name': '19th Street', 'way_points': [57, 68]}, {'distance': 154.3, 'duration': 39.5, 'type': 1, 'instruction': 'Turn right onto Prospect Park West', 'name': 'Prospect Park West', 'way_points': [68, 73]}, {'distance': 172.6, 'duration': 20.7, 'type': 0, 'instruction': 'Turn left onto Border Avenue', 'name': 'Border Avenue', 'way_points': [73, 79]}, {'distance': 50.2, 'duration': 6.0, 'type': 1, 'instruction': 'Turn right onto Ocean Avenue', 'name': 'Ocean Avenue', 'way_points': [79, 81]}, {'distance': 161.6, 'duration': 23.3, 'type': 1, 'instruction': 'Turn right onto Elm Avenue', 'name': 'Elm Avenue', 'way_points': [81, 88]}, {'distance': 27.3, 'duration': 3.9, 'type': 1, 'instruction': 'Turn right onto Grove Avenue', 'name': 'Grove Avenue', 'way_points': [88, 91]}, {'distance': 0.0, 'duration': 0.0, 'type': 10, 'instruction': 'Arrive at Grove Avenue, on the right', 'name': '-', 'way_points': [91, 91]}]}, {'distance': 10360.4, 'duration': 953.0, 'steps': [{'distance': 27.3, 'duration': 3.9, 'type': 11, 'instruction': 'Head east on Grove Avenue', 'name': 'Grove Avenue', 'way_points': [91, 94]}, {'distance': 161.6, 'duration': 23.3, 'type': 0, 'instruction': 'Turn left onto Elm Avenue', 'name': 'Elm Avenue', 'way_points': [94, 101]}, {'distance': 50.2, 'duration': 6.0, 'type': 0, 'instruction': 'Turn left onto Ocean Avenue', 'name': 'Ocean Avenue', 'way_points': [101, 103]}, {'distance': 172.6, 'duration': 20.7, 'type': 0, 'instruction': 'Turn left onto Border Avenue', 'name': 'Border Avenue', 'way_points': [103, 109]}, {'distance': 154.3, 'duration': 39.5, 'type': 1, 'instruction': 'Turn right', 'name': '-', 'way_points': [109, 114]}, {'distance': 238.1, 'duration': 24.1, 'type': 1, 'instruction': 'Turn right onto 19th Street', 'name': '19th Street', 'way_points': [114, 117]}, {'distance': 79.8, 'duration': 9.6, 'type': 3, 'instruction': 'Turn sharp right onto 10th Avenue, NY 27 Truck', 'name': '10th Avenue, NY 27 Truck', 'way_points': [117, 118]}, {'distance': 1401.5, 'duration': 97.4, 'type': 0, 'instruction': 'Turn left onto McDonald Avenue, NY 27 Truck', 'name': 'McDonald Avenue, NY 27 Truck', 'way_points': [118, 130]}, {'distance': 5481.9, 'duration': 479.3, 'type': 2, 'instruction': 'Turn sharp left onto Church Avenue', 'name': 'Church Avenue', 'way_points': [130, 229]}, {'distance': 480.0, 'duration': 55.3, 'type': 13, 'instruction': 'Keep right onto Linden Boulevard', 'name': 'Linden Boulevard', 'way_points': [229, 238]}, {'distance': 14.8, 'duration': 1.3, 'type': 2, 'instruction': 'Turn sharp left onto Rockaway Parkway', 'name': 'Rockaway Parkway', 'way_points': [238, 239]}, {'distance': 459.3, 'duration': 19.5, 'type': 3, 'instruction': 'Turn sharp right onto Linden Boulevard, NY 27', 'name': 'Linden Boulevard, NY 27', 'way_points': [239, 246]}, {'distance': 1616.8, 'duration': 167.8, 'type': 1, 'instruction': 'Turn right onto Rockaway Avenue', 'name': 'Rockaway Avenue', 'way_points': [246, 267]}, {'distance': 22.1, 'duration': 5.3, 'type': 1, 'instruction': 'Turn right onto Avenue J', 'name': 'Avenue J', 'way_points': [267, 268]}, {'distance': 0.0, 'duration': 0.0, 'type': 10, 'instruction': 'Arrive at Avenue J, on the right', 'name': '-', 'way_points': [268, 268]}]}, {'distance': 8593.1, 'duration': 892.8, 'steps': [{'distance': 22.1, 'duration': 5.3, 'type': 11, 'instruction': 'Head northeast on Avenue J', 'name': 'Avenue J', 'way_points': [268, 269]}, {'distance': 5074.2, 'duration': 550.1, 'type': 0, 'instruction': 'Turn left onto Rockaway Parkway', 'name': 'Rockaway Parkway', 'way_points': [269, 342]}, {'distance': 2318.9, 'duration': 204.8, 'type': 0, 'instruction': 'Turn left onto Bushwick Avenue', 'name': 'Bushwick Avenue', 'way_points': [342, 381]}, {'distance': 257.8, 'duration': 30.9, 'type': 12, 'instruction': 'Keep left onto Myrtle Avenue', 'name': 'Myrtle Avenue', 'way_points': [381, 386]}, {'distance': 908.7, 'duration': 93.5, 'type': 6, 'instruction': 'Continue straight onto Myrtle Avenue', 'name': 'Myrtle Avenue', 'way_points': [386, 396]}, {'distance': 11.5, 'duration': 8.2, 'type': 0, 'instruction': 'Turn left', 'name': '-', 'way_points': [396, 397]}, {'distance': 0.0, 'duration': 0.0, 'type': 10, 'instruction': 'Arrive at your destination, on the left', 'name': '-', 'way_points': [397, 397]}]}], 'bbox': [-74.000029, 40.641876, -73.898828, 40.697315], 'geometry': 'mvjwF`drbMUhCEjArBt@dAb@xBx@~B|@bC~@hBp@XJfBp@\\\\LhBr@\\\\LlBt@jAb@x@ZdA`@`A^`A^dA`@dC~@hC`AdC`AdC~@fC`AbC|@tCfA`DlAbDnAbDlApCdA~B|@`C|@~B|@`C|@lAh@p@VRHxCaBhBaAf@YfCqALEVO^QlE{BdHqDhAi@z@[~Ac@jAQdBGH?jAFpANjBf@d@Tj@gAvEgJLUhGyLhGwLdF_K`@y@j@gA~EmJdDsGbBeDnBrBDDDFJHpAtAXi@h@eB^aALOPErA@b@~@VVQ^SXGN?PHNlAnAbAjASRGJCLBMFKRScAkAmAoAIO?QFORYP_@WWc@_AsAAQDMN_@`Ai@dBYh@qAuAKIEGEEoBsBrDiHlAyBBUpBrBhFm@d@E`BSzC]pEe@zKmAlJeAh@Gd@GtLqAdBSfJcAe@{AEKq@uBiAoDgAmDkAoDe@cBm@mBEKGUM]IYEKk@iBi@eBqAiE[eAc@wAg@{A]eAMa@mAiEeAoDcAoDeAoDeAqDcAoDiAwDa@{Ac@yAeAoDEOq@cEAWYmES_DGeAEWGYEuCOqKGkEQqJA_BCgAEqCQiJIcEGyDIeEK_EK{DIiD?WDaBE_BI{DKyDIyDIcEAq@A_@EoBGyDIaEEwBAkAIyDIaEIaEG{DGgECw@e@oC[gBSmA[_EMcEIyDKaEGoD@QD{@Bo@@UB_@@a@EiCCi@IkECaAE]GS]m@s@qAYe@Uc@{AmCqA}B@o@@}BDwBDiBDoCFoG?c@DiDBqBSTEwEEgBIoAQoBi@gHSeCScCRC~@QlDk@fNwBpGiAd@IbDi@v@Od@G~AWbE_F`BmBDGrCcDn@s@dDyD~BmCb@g@h@m@vCgDdBqBVf@Wg@eBpBwCfDi@l@c@f@_ClCeDxDo@r@sCbDEFaBlBcE~E_BVe@Fw@NcDh@e@HqGhAgNvBmDj@_APSBYDSDa@FuCd@yAVmItAsHlAuB\\\\{Dn@sHnAsCb@aDf@qHnAqHlAuAToB\\\\u@L}F~@oB\\\\UBwB^mEt@Q?WCw@C}@Em@CYEgDM_BI{@EkBI[AOAQAcCKYA}EUyBI_@FYJgANsCZoCZsC\\\\qC\\\\sCZqC\\\\q@m@OKy@q@cFcFuAvCuAtCsAtCuAtCuAtCuAtCuAtCsAvCuAtCuAtCuAtCuAtCsAvCuAtCsAtC}AbDg@bAe@dAsAtCu@dB[r@w@dB[r@s@bB]r@w@fBYp@u@`B]t@qAvCS`@wA`De@bAa@~@q@zAO\\\\_ArBsAvCo@rAJrA@Z@RVvEX~Fz@rNVnEj@vJJfBr@jMNrCZdF?BBf@F|@RC', 'way_points': [0, 91, 268, 397], 'warnings': [{'code': 1, 'message': 'There may be restrictions on some roads'}], 'legs': [], 'extras': {'roadaccessrestrictions': {'values': [[0, 72, 0], [72, 110, 32], [110, 397, 0]], 'summary': [{'value': 0.0, 'distance': 23350.0, 'amount': 96.13}, {'value': 32.0, 'distance': 940.5, 'amount': 3.87}]}}}], 'metadata': {'attribution': 'openrouteservice.org | OpenStreetMap contributors', 'service': 'routing', 'timestamp': 1694886628863, 'query': {'coordinates': [[-73.98985281, 40.69267361], [-73.98535329, 40.65440096], [-73.89905704, 40.6419026], [-73.94575174, 40.69553062]], 'profile': 'driving-car', 'format': 'json'}, 'engine': {'version': '7.1.0', 'build_date': '2023-07-09T01:31:50Z', 'graph_date': '2023-09-03T10:10:37Z'}}}\n"
     ]
    }
   ],
   "source": [
    "# import openrouteservice\n",
    "\n",
    "coords = ((-73.98985281, 40.69267361),(-73.89905704, 40.6419026),(-73.98535329, 40.65440096), (-73.94575174, 40.69553062))\n",
    "\n",
    "client = openrouteservice.Client(key='5b3ce3597851110001cf6248f5bd04972a564fcdad6e3b2fdc172d39') # Specify your personal API key\n",
    "routes = client.directions(coords, profile='driving-car', optimize_waypoints=True)\n",
    "\n",
    "print(routes)"
   ]
  },
  {
   "cell_type": "code",
   "execution_count": null,
   "metadata": {},
   "outputs": [],
   "source": []
  }
 ],
 "metadata": {
  "kernelspec": {
   "display_name": "Python 3",
   "language": "python",
   "name": "python3"
  },
  "language_info": {
   "codemirror_mode": {
    "name": "ipython",
    "version": 3
   },
   "file_extension": ".py",
   "mimetype": "text/x-python",
   "name": "python",
   "nbconvert_exporter": "python",
   "pygments_lexer": "ipython3",
   "version": "3.11.3"
  },
  "orig_nbformat": 4
 },
 "nbformat": 4,
 "nbformat_minor": 2
}
