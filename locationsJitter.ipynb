{
 "cells": [
  {
   "cell_type": "code",
   "execution_count": null,
   "id": "117e0f87",
   "metadata": {},
   "outputs": [],
   "source": [
    "import os\n",
    "import pandas as pd\n",
    "from matplotlib import pyplot as plt\n",
    "from pathlib import Path\n",
    "import geopandas as geo\n",
    "import folium\n",
    "import random\n",
    "\n",
    "from datetime import date\n",
    "\n",
    "import numpy as np\n",
    "\n",
    "import fiona\n",
    "\n",
    "import pyproj\n",
    "\n",
    "import math"
   ]
  },
  {
   "cell_type": "code",
   "execution_count": null,
   "id": "3c7f0cea",
   "metadata": {},
   "outputs": [],
   "source": [
    "stops = pd.read_csv(os.getcwd()+'/cleaned/Stops_List.csv')\n",
    "stops"
   ]
  },
  {
   "cell_type": "code",
   "execution_count": null,
   "id": "be8d442b",
   "metadata": {},
   "outputs": [],
   "source": [
    "stops['lat_new'] = 0\n",
    "stops['long_new'] = 0\n",
    "poolOfLocations = {}"
   ]
  },
  {
   "cell_type": "code",
   "execution_count": null,
   "id": "08b32301",
   "metadata": {},
   "outputs": [],
   "source": [
    "jitter = 0.005\n",
    "for i in range(len(stops)):\n",
    "    if ((stops.at[i, 'lat'], stops.at[i, 'long']) not in list(poolOfLocations.keys())):\n",
    "        #print(poolOfLocations)\n",
    "        #print(str(stops.at[i, 'lat'])+' '+ str(stops.at[i, 'long']))\n",
    "        poolOfLocations[(stops.at[i, 'lat'], stops.at[i, 'long'])] = (stops.loc[i]['lat']+random.uniform(-1*jitter, jitter),stops.loc[i]['long']+random.uniform(-1*jitter, jitter))\n",
    "    stops.at[i, 'lat_new'] = poolOfLocations[(stops.at[i, 'lat'], stops.at[i, 'long'])][0]\n",
    "    stops.at[i, 'long_new'] = poolOfLocations[(stops.at[i, 'lat'], stops.at[i, 'long'])][1]"
   ]
  },
  {
   "cell_type": "code",
   "execution_count": null,
   "id": "85a18fff",
   "metadata": {},
   "outputs": [],
   "source": [
    "stops.to_csv('stops_jitter.csv')"
   ]
  },
  {
   "cell_type": "code",
   "execution_count": null,
   "id": "622596d6",
   "metadata": {},
   "outputs": [],
   "source": [
    "stops_partial = stops.head(200)\n",
    "stops_partial"
   ]
  },
  {
   "cell_type": "code",
   "execution_count": null,
   "id": "6d205158",
   "metadata": {},
   "outputs": [],
   "source": [
    "#create base map\n",
    "m = folium.Map(location=[40.67762837367161, -73.9434755141601], zoom_start=10 , tiles=None, zoom_control = False)\n",
    "base_map = folium.FeatureGroup(name='Basemap', overlay=True)\n",
    "folium.TileLayer(tiles='cartodbpositron').add_to(base_map)\n",
    "base_map.add_to(m)\n",
    "\n",
    "#add property points\n",
    "locations = stops_partial[['lat', 'long']]\n",
    "locationlist = locations.values.tolist()\n",
    "for point in range(0, len(locationlist)):\n",
    "    if not math.isnan(locationlist[point][0]) and not math.isnan(locationlist[point][1]):\n",
    "        folium.Marker(locationlist[point]).add_to(m)\n",
    "        \n",
    "#add property points\n",
    "locations = stops_partial[['lat_new', 'long_new']]\n",
    "locationlist = locations.values.tolist()\n",
    "for point in range(0, len(locationlist)):\n",
    "    if not math.isnan(locationlist[point][0]) and not math.isnan(locationlist[point][1]):\n",
    "        folium.Marker(locationlist[point], icon=folium.Icon(color='green')).add_to(m)\n",
    " \n",
    "# add layer controls\n",
    "folium.LayerControl().add_to(m)\n",
    "m"
   ]
  },
  {
   "cell_type": "code",
   "execution_count": null,
   "id": "9a958924",
   "metadata": {},
   "outputs": [],
   "source": [
    "print(locations)"
   ]
  },
  {
   "cell_type": "code",
   "execution_count": null,
   "id": "8f2c9e02",
   "metadata": {},
   "outputs": [],
   "source": [
    "stops_partial"
   ]
  }
 ],
 "metadata": {
  "kernelspec": {
   "display_name": "Python 3 (ipykernel)",
   "language": "python",
   "name": "python3"
  },
  "language_info": {
   "codemirror_mode": {
    "name": "ipython",
    "version": 3
   },
   "file_extension": ".py",
   "mimetype": "text/x-python",
   "name": "python",
   "nbconvert_exporter": "python",
   "pygments_lexer": "ipython3",
   "version": "3.10.4"
  }
 },
 "nbformat": 4,
 "nbformat_minor": 5
}
