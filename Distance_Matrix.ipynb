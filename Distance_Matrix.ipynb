{
 "cells": [
  {
   "cell_type": "markdown",
   "metadata": {},
   "source": [
    "Lets build out the basic distance matrix.\n",
    "Basically a combination of all the unique facility_ids."
   ]
  },
  {
   "cell_type": "code",
   "execution_count": 2,
   "metadata": {},
   "outputs": [],
   "source": [
    "import pandas as pd"
   ]
  },
  {
   "cell_type": "code",
   "execution_count": 3,
   "metadata": {},
   "outputs": [],
   "source": [
    "location_df = pd.read_csv('stops_jitter.csv')"
   ]
  },
  {
   "cell_type": "code",
   "execution_count": 61,
   "metadata": {},
   "outputs": [
    {
     "data": {
      "text/html": [
       "<div>\n",
       "<style scoped>\n",
       "    .dataframe tbody tr th:only-of-type {\n",
       "        vertical-align: middle;\n",
       "    }\n",
       "\n",
       "    .dataframe tbody tr th {\n",
       "        vertical-align: top;\n",
       "    }\n",
       "\n",
       "    .dataframe thead th {\n",
       "        text-align: right;\n",
       "    }\n",
       "</style>\n",
       "<table border=\"1\" class=\"dataframe\">\n",
       "  <thead>\n",
       "    <tr style=\"text-align: right;\">\n",
       "      <th></th>\n",
       "      <th>Unnamed: 0</th>\n",
       "      <th>Deliv_ID</th>\n",
       "      <th>Quantity</th>\n",
       "      <th>Hot_Skill</th>\n",
       "      <th>Fridge_Skill</th>\n",
       "      <th>Serv_Time</th>\n",
       "      <th>lat_new</th>\n",
       "      <th>long_new</th>\n",
       "    </tr>\n",
       "  </thead>\n",
       "  <tbody>\n",
       "    <tr>\n",
       "      <th>count</th>\n",
       "      <td>13921.000000</td>\n",
       "      <td>13921.000000</td>\n",
       "      <td>13921.000000</td>\n",
       "      <td>13921.000000</td>\n",
       "      <td>13921.000000</td>\n",
       "      <td>13921.000000</td>\n",
       "      <td>13921.000000</td>\n",
       "      <td>13921.000000</td>\n",
       "    </tr>\n",
       "    <tr>\n",
       "      <th>mean</th>\n",
       "      <td>6960.000000</td>\n",
       "      <td>7445.547374</td>\n",
       "      <td>1.224122</td>\n",
       "      <td>0.611091</td>\n",
       "      <td>0.388909</td>\n",
       "      <td>6.276381</td>\n",
       "      <td>40.672577</td>\n",
       "      <td>-73.940529</td>\n",
       "    </tr>\n",
       "    <tr>\n",
       "      <th>std</th>\n",
       "      <td>4018.790884</td>\n",
       "      <td>4291.529388</td>\n",
       "      <td>0.908008</td>\n",
       "      <td>0.487520</td>\n",
       "      <td>0.487520</td>\n",
       "      <td>1.132443</td>\n",
       "      <td>0.024242</td>\n",
       "      <td>0.035039</td>\n",
       "    </tr>\n",
       "    <tr>\n",
       "      <th>min</th>\n",
       "      <td>0.000000</td>\n",
       "      <td>2.000000</td>\n",
       "      <td>1.000000</td>\n",
       "      <td>0.000000</td>\n",
       "      <td>0.000000</td>\n",
       "      <td>6.000000</td>\n",
       "      <td>40.573465</td>\n",
       "      <td>-74.028411</td>\n",
       "    </tr>\n",
       "    <tr>\n",
       "      <th>25%</th>\n",
       "      <td>3480.000000</td>\n",
       "      <td>3747.000000</td>\n",
       "      <td>1.000000</td>\n",
       "      <td>0.000000</td>\n",
       "      <td>0.000000</td>\n",
       "      <td>6.000000</td>\n",
       "      <td>40.657986</td>\n",
       "      <td>-73.964435</td>\n",
       "    </tr>\n",
       "    <tr>\n",
       "      <th>50%</th>\n",
       "      <td>6960.000000</td>\n",
       "      <td>7501.000000</td>\n",
       "      <td>1.000000</td>\n",
       "      <td>1.000000</td>\n",
       "      <td>0.000000</td>\n",
       "      <td>6.000000</td>\n",
       "      <td>40.675148</td>\n",
       "      <td>-73.941428</td>\n",
       "    </tr>\n",
       "    <tr>\n",
       "      <th>75%</th>\n",
       "      <td>10440.000000</td>\n",
       "      <td>11236.000000</td>\n",
       "      <td>1.000000</td>\n",
       "      <td>1.000000</td>\n",
       "      <td>1.000000</td>\n",
       "      <td>6.000000</td>\n",
       "      <td>40.690234</td>\n",
       "      <td>-73.915615</td>\n",
       "    </tr>\n",
       "    <tr>\n",
       "      <th>max</th>\n",
       "      <td>13920.000000</td>\n",
       "      <td>14941.000000</td>\n",
       "      <td>5.000000</td>\n",
       "      <td>1.000000</td>\n",
       "      <td>1.000000</td>\n",
       "      <td>11.000000</td>\n",
       "      <td>40.738458</td>\n",
       "      <td>-73.859150</td>\n",
       "    </tr>\n",
       "  </tbody>\n",
       "</table>\n",
       "</div>"
      ],
      "text/plain": [
       "         Unnamed: 0      Deliv_ID      Quantity     Hot_Skill  Fridge_Skill  \\\n",
       "count  13921.000000  13921.000000  13921.000000  13921.000000  13921.000000   \n",
       "mean    6960.000000   7445.547374      1.224122      0.611091      0.388909   \n",
       "std     4018.790884   4291.529388      0.908008      0.487520      0.487520   \n",
       "min        0.000000      2.000000      1.000000      0.000000      0.000000   \n",
       "25%     3480.000000   3747.000000      1.000000      0.000000      0.000000   \n",
       "50%     6960.000000   7501.000000      1.000000      1.000000      0.000000   \n",
       "75%    10440.000000  11236.000000      1.000000      1.000000      1.000000   \n",
       "max    13920.000000  14941.000000      5.000000      1.000000      1.000000   \n",
       "\n",
       "          Serv_Time       lat_new      long_new  \n",
       "count  13921.000000  13921.000000  13921.000000  \n",
       "mean       6.276381     40.672577    -73.940529  \n",
       "std        1.132443      0.024242      0.035039  \n",
       "min        6.000000     40.573465    -74.028411  \n",
       "25%        6.000000     40.657986    -73.964435  \n",
       "50%        6.000000     40.675148    -73.941428  \n",
       "75%        6.000000     40.690234    -73.915615  \n",
       "max       11.000000     40.738458    -73.859150  "
      ]
     },
     "execution_count": 61,
     "metadata": {},
     "output_type": "execute_result"
    }
   ],
   "source": [
    "location_df.describe()"
   ]
  },
  {
   "cell_type": "code",
   "execution_count": 5,
   "metadata": {},
   "outputs": [
    {
     "data": {
      "text/html": [
       "<div>\n",
       "<style scoped>\n",
       "    .dataframe tbody tr th:only-of-type {\n",
       "        vertical-align: middle;\n",
       "    }\n",
       "\n",
       "    .dataframe tbody tr th {\n",
       "        vertical-align: top;\n",
       "    }\n",
       "\n",
       "    .dataframe thead th {\n",
       "        text-align: right;\n",
       "    }\n",
       "</style>\n",
       "<table border=\"1\" class=\"dataframe\">\n",
       "  <thead>\n",
       "    <tr style=\"text-align: right;\">\n",
       "      <th></th>\n",
       "      <th>Unnamed: 0</th>\n",
       "      <th>Weekday</th>\n",
       "      <th>Contract</th>\n",
       "      <th>Deliv_ID</th>\n",
       "      <th>Quantity</th>\n",
       "      <th>Hot_Skill</th>\n",
       "      <th>Fridge_Skill</th>\n",
       "      <th>Serv_Time</th>\n",
       "      <th>Route_Code</th>\n",
       "      <th>lat_new</th>\n",
       "      <th>long_new</th>\n",
       "    </tr>\n",
       "  </thead>\n",
       "  <tbody>\n",
       "    <tr>\n",
       "      <th>0</th>\n",
       "      <td>0</td>\n",
       "      <td>Friday</td>\n",
       "      <td>BK2_3</td>\n",
       "      <td>11918</td>\n",
       "      <td>1</td>\n",
       "      <td>1</td>\n",
       "      <td>0</td>\n",
       "      <td>6.0</td>\n",
       "      <td>B</td>\n",
       "      <td>40.692674</td>\n",
       "      <td>-73.989853</td>\n",
       "    </tr>\n",
       "    <tr>\n",
       "      <th>1</th>\n",
       "      <td>1</td>\n",
       "      <td>Monday</td>\n",
       "      <td>BK2_3</td>\n",
       "      <td>465</td>\n",
       "      <td>1</td>\n",
       "      <td>1</td>\n",
       "      <td>0</td>\n",
       "      <td>6.0</td>\n",
       "      <td>B</td>\n",
       "      <td>40.692674</td>\n",
       "      <td>-73.989853</td>\n",
       "    </tr>\n",
       "    <tr>\n",
       "      <th>2</th>\n",
       "      <td>2</td>\n",
       "      <td>Thursday</td>\n",
       "      <td>BK2_3</td>\n",
       "      <td>8058</td>\n",
       "      <td>1</td>\n",
       "      <td>1</td>\n",
       "      <td>0</td>\n",
       "      <td>6.0</td>\n",
       "      <td>B</td>\n",
       "      <td>40.692674</td>\n",
       "      <td>-73.989853</td>\n",
       "    </tr>\n",
       "    <tr>\n",
       "      <th>3</th>\n",
       "      <td>3</td>\n",
       "      <td>Friday</td>\n",
       "      <td>BK2_3</td>\n",
       "      <td>11717</td>\n",
       "      <td>1</td>\n",
       "      <td>0</td>\n",
       "      <td>1</td>\n",
       "      <td>6.0</td>\n",
       "      <td>B</td>\n",
       "      <td>40.692674</td>\n",
       "      <td>-73.989853</td>\n",
       "    </tr>\n",
       "    <tr>\n",
       "      <th>4</th>\n",
       "      <td>4</td>\n",
       "      <td>Tuesday</td>\n",
       "      <td>BK2_3</td>\n",
       "      <td>3290</td>\n",
       "      <td>1</td>\n",
       "      <td>1</td>\n",
       "      <td>0</td>\n",
       "      <td>6.0</td>\n",
       "      <td>B</td>\n",
       "      <td>40.692674</td>\n",
       "      <td>-73.989853</td>\n",
       "    </tr>\n",
       "  </tbody>\n",
       "</table>\n",
       "</div>"
      ],
      "text/plain": [
       "   Unnamed: 0   Weekday Contract  Deliv_ID  Quantity  Hot_Skill  Fridge_Skill  \\\n",
       "0           0    Friday    BK2_3     11918         1          1             0   \n",
       "1           1    Monday    BK2_3       465         1          1             0   \n",
       "2           2  Thursday    BK2_3      8058         1          1             0   \n",
       "3           3    Friday    BK2_3     11717         1          0             1   \n",
       "4           4   Tuesday    BK2_3      3290         1          1             0   \n",
       "\n",
       "   Serv_Time Route_Code    lat_new   long_new  \n",
       "0        6.0          B  40.692674 -73.989853  \n",
       "1        6.0          B  40.692674 -73.989853  \n",
       "2        6.0          B  40.692674 -73.989853  \n",
       "3        6.0          B  40.692674 -73.989853  \n",
       "4        6.0          B  40.692674 -73.989853  "
      ]
     },
     "execution_count": 5,
     "metadata": {},
     "output_type": "execute_result"
    }
   ],
   "source": [
    "location_df.head()"
   ]
  },
  {
   "cell_type": "code",
   "execution_count": 56,
   "metadata": {},
   "outputs": [],
   "source": [
    "Delivery_id = location_df[['Deliv_ID', 'long_new', 'lat_new']].sort_values('Deliv_ID').copy()"
   ]
  },
  {
   "cell_type": "code",
   "execution_count": 57,
   "metadata": {},
   "outputs": [
    {
     "data": {
      "text/html": [
       "<div>\n",
       "<style scoped>\n",
       "    .dataframe tbody tr th:only-of-type {\n",
       "        vertical-align: middle;\n",
       "    }\n",
       "\n",
       "    .dataframe tbody tr th {\n",
       "        vertical-align: top;\n",
       "    }\n",
       "\n",
       "    .dataframe thead th {\n",
       "        text-align: right;\n",
       "    }\n",
       "</style>\n",
       "<table border=\"1\" class=\"dataframe\">\n",
       "  <thead>\n",
       "    <tr style=\"text-align: right;\">\n",
       "      <th></th>\n",
       "      <th>Deliv_ID</th>\n",
       "      <th>long_new</th>\n",
       "      <th>lat_new</th>\n",
       "    </tr>\n",
       "  </thead>\n",
       "  <tbody>\n",
       "    <tr>\n",
       "      <th>10775</th>\n",
       "      <td>2</td>\n",
       "      <td>-73.953443</td>\n",
       "      <td>40.709717</td>\n",
       "    </tr>\n",
       "    <tr>\n",
       "      <th>6842</th>\n",
       "      <td>3</td>\n",
       "      <td>-73.950178</td>\n",
       "      <td>40.699487</td>\n",
       "    </tr>\n",
       "    <tr>\n",
       "      <th>10776</th>\n",
       "      <td>4</td>\n",
       "      <td>-73.953443</td>\n",
       "      <td>40.709717</td>\n",
       "    </tr>\n",
       "    <tr>\n",
       "      <th>10779</th>\n",
       "      <td>5</td>\n",
       "      <td>-73.934727</td>\n",
       "      <td>40.703086</td>\n",
       "    </tr>\n",
       "    <tr>\n",
       "      <th>10782</th>\n",
       "      <td>6</td>\n",
       "      <td>-73.934727</td>\n",
       "      <td>40.703086</td>\n",
       "    </tr>\n",
       "  </tbody>\n",
       "</table>\n",
       "</div>"
      ],
      "text/plain": [
       "       Deliv_ID   long_new    lat_new\n",
       "10775         2 -73.953443  40.709717\n",
       "6842          3 -73.950178  40.699487\n",
       "10776         4 -73.953443  40.709717\n",
       "10779         5 -73.934727  40.703086\n",
       "10782         6 -73.934727  40.703086"
      ]
     },
     "execution_count": 57,
     "metadata": {},
     "output_type": "execute_result"
    }
   ],
   "source": [
    "Delivery_id.head()"
   ]
  },
  {
   "cell_type": "code",
   "execution_count": 58,
   "metadata": {},
   "outputs": [],
   "source": [
    "Unique_delivery_id = Delivery_id.drop_duplicates()"
   ]
  },
  {
   "cell_type": "code",
   "execution_count": 59,
   "metadata": {},
   "outputs": [
    {
     "data": {
      "text/html": [
       "<div>\n",
       "<style scoped>\n",
       "    .dataframe tbody tr th:only-of-type {\n",
       "        vertical-align: middle;\n",
       "    }\n",
       "\n",
       "    .dataframe tbody tr th {\n",
       "        vertical-align: top;\n",
       "    }\n",
       "\n",
       "    .dataframe thead th {\n",
       "        text-align: right;\n",
       "    }\n",
       "</style>\n",
       "<table border=\"1\" class=\"dataframe\">\n",
       "  <thead>\n",
       "    <tr style=\"text-align: right;\">\n",
       "      <th></th>\n",
       "      <th>Deliv_ID</th>\n",
       "      <th>long_new</th>\n",
       "      <th>lat_new</th>\n",
       "    </tr>\n",
       "  </thead>\n",
       "  <tbody>\n",
       "    <tr>\n",
       "      <th>10775</th>\n",
       "      <td>2</td>\n",
       "      <td>-73.953443</td>\n",
       "      <td>40.709717</td>\n",
       "    </tr>\n",
       "    <tr>\n",
       "      <th>6842</th>\n",
       "      <td>3</td>\n",
       "      <td>-73.950178</td>\n",
       "      <td>40.699487</td>\n",
       "    </tr>\n",
       "    <tr>\n",
       "      <th>10776</th>\n",
       "      <td>4</td>\n",
       "      <td>-73.953443</td>\n",
       "      <td>40.709717</td>\n",
       "    </tr>\n",
       "    <tr>\n",
       "      <th>10779</th>\n",
       "      <td>5</td>\n",
       "      <td>-73.934727</td>\n",
       "      <td>40.703086</td>\n",
       "    </tr>\n",
       "    <tr>\n",
       "      <th>10782</th>\n",
       "      <td>6</td>\n",
       "      <td>-73.934727</td>\n",
       "      <td>40.703086</td>\n",
       "    </tr>\n",
       "  </tbody>\n",
       "</table>\n",
       "</div>"
      ],
      "text/plain": [
       "       Deliv_ID   long_new    lat_new\n",
       "10775         2 -73.953443  40.709717\n",
       "6842          3 -73.950178  40.699487\n",
       "10776         4 -73.953443  40.709717\n",
       "10779         5 -73.934727  40.703086\n",
       "10782         6 -73.934727  40.703086"
      ]
     },
     "execution_count": 59,
     "metadata": {},
     "output_type": "execute_result"
    }
   ],
   "source": [
    "Unique_delivery_id.head()"
   ]
  },
  {
   "cell_type": "code",
   "execution_count": 60,
   "metadata": {},
   "outputs": [
    {
     "data": {
      "text/html": [
       "<div>\n",
       "<style scoped>\n",
       "    .dataframe tbody tr th:only-of-type {\n",
       "        vertical-align: middle;\n",
       "    }\n",
       "\n",
       "    .dataframe tbody tr th {\n",
       "        vertical-align: top;\n",
       "    }\n",
       "\n",
       "    .dataframe thead th {\n",
       "        text-align: right;\n",
       "    }\n",
       "</style>\n",
       "<table border=\"1\" class=\"dataframe\">\n",
       "  <thead>\n",
       "    <tr style=\"text-align: right;\">\n",
       "      <th></th>\n",
       "      <th>Deliv_ID</th>\n",
       "      <th>long_new</th>\n",
       "      <th>lat_new</th>\n",
       "    </tr>\n",
       "  </thead>\n",
       "  <tbody>\n",
       "    <tr>\n",
       "      <th>count</th>\n",
       "      <td>13921.000000</td>\n",
       "      <td>13921.000000</td>\n",
       "      <td>13921.000000</td>\n",
       "    </tr>\n",
       "    <tr>\n",
       "      <th>mean</th>\n",
       "      <td>7445.547374</td>\n",
       "      <td>-73.940529</td>\n",
       "      <td>40.672577</td>\n",
       "    </tr>\n",
       "    <tr>\n",
       "      <th>std</th>\n",
       "      <td>4291.529388</td>\n",
       "      <td>0.035039</td>\n",
       "      <td>0.024242</td>\n",
       "    </tr>\n",
       "    <tr>\n",
       "      <th>min</th>\n",
       "      <td>2.000000</td>\n",
       "      <td>-74.028411</td>\n",
       "      <td>40.573465</td>\n",
       "    </tr>\n",
       "    <tr>\n",
       "      <th>25%</th>\n",
       "      <td>3747.000000</td>\n",
       "      <td>-73.964435</td>\n",
       "      <td>40.657986</td>\n",
       "    </tr>\n",
       "    <tr>\n",
       "      <th>50%</th>\n",
       "      <td>7501.000000</td>\n",
       "      <td>-73.941428</td>\n",
       "      <td>40.675148</td>\n",
       "    </tr>\n",
       "    <tr>\n",
       "      <th>75%</th>\n",
       "      <td>11236.000000</td>\n",
       "      <td>-73.915615</td>\n",
       "      <td>40.690234</td>\n",
       "    </tr>\n",
       "    <tr>\n",
       "      <th>max</th>\n",
       "      <td>14941.000000</td>\n",
       "      <td>-73.859150</td>\n",
       "      <td>40.738458</td>\n",
       "    </tr>\n",
       "  </tbody>\n",
       "</table>\n",
       "</div>"
      ],
      "text/plain": [
       "           Deliv_ID      long_new       lat_new\n",
       "count  13921.000000  13921.000000  13921.000000\n",
       "mean    7445.547374    -73.940529     40.672577\n",
       "std     4291.529388      0.035039      0.024242\n",
       "min        2.000000    -74.028411     40.573465\n",
       "25%     3747.000000    -73.964435     40.657986\n",
       "50%     7501.000000    -73.941428     40.675148\n",
       "75%    11236.000000    -73.915615     40.690234\n",
       "max    14941.000000    -73.859150     40.738458"
      ]
     },
     "execution_count": 60,
     "metadata": {},
     "output_type": "execute_result"
    }
   ],
   "source": [
    "Unique_delivery_id.describe()"
   ]
  },
  {
   "cell_type": "markdown",
   "metadata": {},
   "source": [
    "Ok, lets initalize the matrix"
   ]
  },
  {
   "cell_type": "code",
   "execution_count": 53,
   "metadata": {},
   "outputs": [],
   "source": [
    "# Sorted_delivery_id = pd.DataFrame()\n",
    "# Sorted_delivery_id['UID'] = Unique_delivery_id['Deliv_ID'].sort_values()"
   ]
  },
  {
   "cell_type": "code",
   "execution_count": 54,
   "metadata": {},
   "outputs": [
    {
     "data": {
      "text/html": [
       "<div>\n",
       "<style scoped>\n",
       "    .dataframe tbody tr th:only-of-type {\n",
       "        vertical-align: middle;\n",
       "    }\n",
       "\n",
       "    .dataframe tbody tr th {\n",
       "        vertical-align: top;\n",
       "    }\n",
       "\n",
       "    .dataframe thead th {\n",
       "        text-align: right;\n",
       "    }\n",
       "</style>\n",
       "<table border=\"1\" class=\"dataframe\">\n",
       "  <thead>\n",
       "    <tr style=\"text-align: right;\">\n",
       "      <th></th>\n",
       "      <th>UID</th>\n",
       "    </tr>\n",
       "  </thead>\n",
       "  <tbody>\n",
       "    <tr>\n",
       "      <th>10775</th>\n",
       "      <td>2</td>\n",
       "    </tr>\n",
       "    <tr>\n",
       "      <th>6842</th>\n",
       "      <td>3</td>\n",
       "    </tr>\n",
       "    <tr>\n",
       "      <th>10776</th>\n",
       "      <td>4</td>\n",
       "    </tr>\n",
       "    <tr>\n",
       "      <th>10779</th>\n",
       "      <td>5</td>\n",
       "    </tr>\n",
       "    <tr>\n",
       "      <th>10782</th>\n",
       "      <td>6</td>\n",
       "    </tr>\n",
       "  </tbody>\n",
       "</table>\n",
       "</div>"
      ],
      "text/plain": [
       "       UID\n",
       "10775    2\n",
       "6842     3\n",
       "10776    4\n",
       "10779    5\n",
       "10782    6"
      ]
     },
     "execution_count": 54,
     "metadata": {},
     "output_type": "execute_result"
    }
   ],
   "source": [
    "# Sorted_delivery_id.head()"
   ]
  },
  {
   "cell_type": "code",
   "execution_count": 21,
   "metadata": {},
   "outputs": [],
   "source": [
    "import openrouteservice"
   ]
  },
  {
   "cell_type": "markdown",
   "metadata": {},
   "source": [
    "Lets now define a function to return the distance between two long, lats"
   ]
  },
  {
   "cell_type": "code",
   "execution_count": 71,
   "metadata": {},
   "outputs": [
    {
     "data": {
      "text/plain": [
       "[[0.0, 6045.15], [6045.15, 0.0]]"
      ]
     },
     "execution_count": 71,
     "metadata": {},
     "output_type": "execute_result"
    }
   ],
   "source": [
    "def get_distance(a):\n",
    "    client = openrouteservice.Client(key='5b3ce3597851110001cf6248f5bd04972a564fcdad6e3b2fdc172d39')\n",
    "    matrix = client.distance_matrix(\n",
    "    locations=a,\n",
    "    profile='foot-walking',\n",
    "    metrics=['distance'],\n",
    "    validate=False,\n",
    "    )\n",
    "    return matrix\n",
    "test = get_distance(((-73.9808731, 40.6584876), (-73.9461372, 40.6949719)))\n",
    "\n",
    "test['distances']"
   ]
  },
  {
   "cell_type": "markdown",
   "metadata": {},
   "source": [
    "Ok so we have the bones now. Lets put it all together."
   ]
  },
  {
   "cell_type": "markdown",
   "metadata": {},
   "source": [
    "Lets get a long scalar of the coordinates."
   ]
  },
  {
   "cell_type": "code",
   "execution_count": 48,
   "metadata": {},
   "outputs": [],
   "source": [
    "import numpy as np\n",
    "\n",
    "distance_matrix = np.zeros((13922, 13921))"
   ]
  },
  {
   "cell_type": "code",
   "execution_count": 52,
   "metadata": {},
   "outputs": [
    {
     "data": {
      "text/plain": [
       "array([0., 0., 0., ..., 0., 0., 0.])"
      ]
     },
     "execution_count": 52,
     "metadata": {},
     "output_type": "execute_result"
    }
   ],
   "source": [
    "distance_matrix[0,:]"
   ]
  },
  {
   "cell_type": "code",
   "execution_count": 70,
   "metadata": {},
   "outputs": [
    {
     "ename": "InvalidIndexError",
     "evalue": "(slice(None, None, None), 0)",
     "output_type": "error",
     "traceback": [
      "\u001b[0;31m---------------------------------------------------------------------------\u001b[0m",
      "\u001b[0;31mTypeError\u001b[0m                                 Traceback (most recent call last)",
      "File \u001b[0;32m~/.pyenv/versions/3.11.3/lib/python3.11/site-packages/pandas/core/indexes/base.py:3653\u001b[0m, in \u001b[0;36mIndex.get_loc\u001b[0;34m(self, key)\u001b[0m\n\u001b[1;32m   3652\u001b[0m \u001b[39mtry\u001b[39;00m:\n\u001b[0;32m-> 3653\u001b[0m     \u001b[39mreturn\u001b[39;00m \u001b[39mself\u001b[39;49m\u001b[39m.\u001b[39;49m_engine\u001b[39m.\u001b[39;49mget_loc(casted_key)\n\u001b[1;32m   3654\u001b[0m \u001b[39mexcept\u001b[39;00m \u001b[39mKeyError\u001b[39;00m \u001b[39mas\u001b[39;00m err:\n",
      "File \u001b[0;32m~/.pyenv/versions/3.11.3/lib/python3.11/site-packages/pandas/_libs/index.pyx:147\u001b[0m, in \u001b[0;36mpandas._libs.index.IndexEngine.get_loc\u001b[0;34m()\u001b[0m\n",
      "File \u001b[0;32m~/.pyenv/versions/3.11.3/lib/python3.11/site-packages/pandas/_libs/index.pyx:153\u001b[0m, in \u001b[0;36mpandas._libs.index.IndexEngine.get_loc\u001b[0;34m()\u001b[0m\n",
      "\u001b[0;31mTypeError\u001b[0m: '(slice(None, None, None), 0)' is an invalid key",
      "\nDuring handling of the above exception, another exception occurred:\n",
      "\u001b[0;31mInvalidIndexError\u001b[0m                         Traceback (most recent call last)",
      "\u001b[1;32m/Users/rohitzacharia/Library/CloudStorage/SynologyDrive-ZDrive/Zachs Documents/Coding/DataExploration/DataKind/RiseBoro/RiseBoroRouteOptimization/Distance_Matrics.ipynb Cell 21\u001b[0m line \u001b[0;36m8\n\u001b[1;32m      <a href='vscode-notebook-cell:/Users/rohitzacharia/Library/CloudStorage/SynologyDrive-ZDrive/Zachs%20Documents/Coding/DataExploration/DataKind/RiseBoro/RiseBoroRouteOptimization/Distance_Matrics.ipynb#X40sZmlsZQ%3D%3D?line=0'>1</a>\u001b[0m \u001b[39m# for i in Unique_delivery_id['Deliv_ID']:\u001b[39;00m\n\u001b[1;32m      <a href='vscode-notebook-cell:/Users/rohitzacharia/Library/CloudStorage/SynologyDrive-ZDrive/Zachs%20Documents/Coding/DataExploration/DataKind/RiseBoro/RiseBoroRouteOptimization/Distance_Matrics.ipynb#X40sZmlsZQ%3D%3D?line=1'>2</a>\u001b[0m \u001b[39m#     print(i)\u001b[39;00m\n\u001b[1;32m      <a href='vscode-notebook-cell:/Users/rohitzacharia/Library/CloudStorage/SynologyDrive-ZDrive/Zachs%20Documents/Coding/DataExploration/DataKind/RiseBoro/RiseBoroRouteOptimization/Distance_Matrics.ipynb#X40sZmlsZQ%3D%3D?line=3'>4</a>\u001b[0m distance_matrix \u001b[39m=\u001b[39m pd\u001b[39m.\u001b[39mDataFrame(distance_matrix, columns \u001b[39m=\u001b[39m \u001b[39mlist\u001b[39m(Unique_delivery_id[\u001b[39m'\u001b[39m\u001b[39mDeliv_ID\u001b[39m\u001b[39m'\u001b[39m]))\n\u001b[0;32m----> <a href='vscode-notebook-cell:/Users/rohitzacharia/Library/CloudStorage/SynologyDrive-ZDrive/Zachs%20Documents/Coding/DataExploration/DataKind/RiseBoro/RiseBoroRouteOptimization/Distance_Matrics.ipynb#X40sZmlsZQ%3D%3D?line=7'>8</a>\u001b[0m distance_matrix[:,\u001b[39m0\u001b[39;49m]\n\u001b[1;32m      <a href='vscode-notebook-cell:/Users/rohitzacharia/Library/CloudStorage/SynologyDrive-ZDrive/Zachs%20Documents/Coding/DataExploration/DataKind/RiseBoro/RiseBoroRouteOptimization/Distance_Matrics.ipynb#X40sZmlsZQ%3D%3D?line=8'>9</a>\u001b[0m                 \u001b[39m# ] = Unique_delivery_id['Deliv_ID']\u001b[39;00m\n\u001b[1;32m     <a href='vscode-notebook-cell:/Users/rohitzacharia/Library/CloudStorage/SynologyDrive-ZDrive/Zachs%20Documents/Coding/DataExploration/DataKind/RiseBoro/RiseBoroRouteOptimization/Distance_Matrics.ipynb#X40sZmlsZQ%3D%3D?line=10'>11</a>\u001b[0m \u001b[39mprint\u001b[39m(distance_matrix)\n",
      "File \u001b[0;32m~/.pyenv/versions/3.11.3/lib/python3.11/site-packages/pandas/core/frame.py:3761\u001b[0m, in \u001b[0;36mDataFrame.__getitem__\u001b[0;34m(self, key)\u001b[0m\n\u001b[1;32m   3759\u001b[0m \u001b[39mif\u001b[39;00m \u001b[39mself\u001b[39m\u001b[39m.\u001b[39mcolumns\u001b[39m.\u001b[39mnlevels \u001b[39m>\u001b[39m \u001b[39m1\u001b[39m:\n\u001b[1;32m   3760\u001b[0m     \u001b[39mreturn\u001b[39;00m \u001b[39mself\u001b[39m\u001b[39m.\u001b[39m_getitem_multilevel(key)\n\u001b[0;32m-> 3761\u001b[0m indexer \u001b[39m=\u001b[39m \u001b[39mself\u001b[39;49m\u001b[39m.\u001b[39;49mcolumns\u001b[39m.\u001b[39;49mget_loc(key)\n\u001b[1;32m   3762\u001b[0m \u001b[39mif\u001b[39;00m is_integer(indexer):\n\u001b[1;32m   3763\u001b[0m     indexer \u001b[39m=\u001b[39m [indexer]\n",
      "File \u001b[0;32m~/.pyenv/versions/3.11.3/lib/python3.11/site-packages/pandas/core/indexes/base.py:3660\u001b[0m, in \u001b[0;36mIndex.get_loc\u001b[0;34m(self, key)\u001b[0m\n\u001b[1;32m   3655\u001b[0m     \u001b[39mraise\u001b[39;00m \u001b[39mKeyError\u001b[39;00m(key) \u001b[39mfrom\u001b[39;00m \u001b[39merr\u001b[39;00m\n\u001b[1;32m   3656\u001b[0m \u001b[39mexcept\u001b[39;00m \u001b[39mTypeError\u001b[39;00m:\n\u001b[1;32m   3657\u001b[0m     \u001b[39m# If we have a listlike key, _check_indexing_error will raise\u001b[39;00m\n\u001b[1;32m   3658\u001b[0m     \u001b[39m#  InvalidIndexError. Otherwise we fall through and re-raise\u001b[39;00m\n\u001b[1;32m   3659\u001b[0m     \u001b[39m#  the TypeError.\u001b[39;00m\n\u001b[0;32m-> 3660\u001b[0m     \u001b[39mself\u001b[39;49m\u001b[39m.\u001b[39;49m_check_indexing_error(key)\n\u001b[1;32m   3661\u001b[0m     \u001b[39mraise\u001b[39;00m\n",
      "File \u001b[0;32m~/.pyenv/versions/3.11.3/lib/python3.11/site-packages/pandas/core/indexes/base.py:5737\u001b[0m, in \u001b[0;36mIndex._check_indexing_error\u001b[0;34m(self, key)\u001b[0m\n\u001b[1;32m   5733\u001b[0m \u001b[39mdef\u001b[39;00m \u001b[39m_check_indexing_error\u001b[39m(\u001b[39mself\u001b[39m, key):\n\u001b[1;32m   5734\u001b[0m     \u001b[39mif\u001b[39;00m \u001b[39mnot\u001b[39;00m is_scalar(key):\n\u001b[1;32m   5735\u001b[0m         \u001b[39m# if key is not a scalar, directly raise an error (the code below\u001b[39;00m\n\u001b[1;32m   5736\u001b[0m         \u001b[39m# would convert to numpy arrays and raise later any way) - GH29926\u001b[39;00m\n\u001b[0;32m-> 5737\u001b[0m         \u001b[39mraise\u001b[39;00m InvalidIndexError(key)\n",
      "\u001b[0;31mInvalidIndexError\u001b[0m: (slice(None, None, None), 0)"
     ]
    }
   ],
   "source": [
    "# for i in Unique_delivery_id['Deliv_ID']:\n",
    "#     print(i)\n",
    "\n",
    "distance_matrix = pd.DataFrame(distance_matrix, columns = list(Unique_delivery_id['Deliv_ID']))\n",
    "\n",
    "\n",
    "\n",
    "distance_matrix[:,0] = Unique_delivery_id['Deliv_ID']\n",
    "\n",
    "print(distance_matrix)\n",
    "print(type(distance_matrix))\n",
    "\n",
    "# distance_matrix.columns = list(Unique_delivery_id['Deliv_ID'])"
   ]
  },
  {
   "cell_type": "markdown",
   "metadata": {},
   "source": [
    "Lets get the matrix data"
   ]
  },
  {
   "cell_type": "code",
   "execution_count": 83,
   "metadata": {},
   "outputs": [
    {
     "ename": "AttributeError",
     "evalue": "'NoneType' object has no attribute 'append'",
     "output_type": "error",
     "traceback": [
      "\u001b[0;31m---------------------------------------------------------------------------\u001b[0m",
      "\u001b[0;31mAttributeError\u001b[0m                            Traceback (most recent call last)",
      "\u001b[1;32m/Users/rohitzacharia/Library/CloudStorage/SynologyDrive-ZDrive/Zachs Documents/Coding/DataExploration/DataKind/RiseBoro/RiseBoroRouteOptimization/Distance_Matrics.ipynb Cell 23\u001b[0m line \u001b[0;36m7\n\u001b[1;32m      <a href='vscode-notebook-cell:/Users/rohitzacharia/Library/CloudStorage/SynologyDrive-ZDrive/Zachs%20Documents/Coding/DataExploration/DataKind/RiseBoro/RiseBoroRouteOptimization/Distance_Matrics.ipynb#X43sZmlsZQ%3D%3D?line=2'>3</a>\u001b[0m long_lats\u001b[39m.\u001b[39mappend(\u001b[39m1\u001b[39m)\n\u001b[1;32m      <a href='vscode-notebook-cell:/Users/rohitzacharia/Library/CloudStorage/SynologyDrive-ZDrive/Zachs%20Documents/Coding/DataExploration/DataKind/RiseBoro/RiseBoroRouteOptimization/Distance_Matrics.ipynb#X43sZmlsZQ%3D%3D?line=4'>5</a>\u001b[0m \u001b[39mfor\u001b[39;00m UID \u001b[39min\u001b[39;00m Unique_delivery_id[\u001b[39m'\u001b[39m\u001b[39mDeliv_ID\u001b[39m\u001b[39m'\u001b[39m]:\n\u001b[1;32m      <a href='vscode-notebook-cell:/Users/rohitzacharia/Library/CloudStorage/SynologyDrive-ZDrive/Zachs%20Documents/Coding/DataExploration/DataKind/RiseBoro/RiseBoroRouteOptimization/Distance_Matrics.ipynb#X43sZmlsZQ%3D%3D?line=5'>6</a>\u001b[0m     \u001b[39m# long_lats = long_lats.append([Unique_delivery_id['long_new'], Unique_delivery_id['lat_new']])\u001b[39;00m\n\u001b[0;32m----> <a href='vscode-notebook-cell:/Users/rohitzacharia/Library/CloudStorage/SynologyDrive-ZDrive/Zachs%20Documents/Coding/DataExploration/DataKind/RiseBoro/RiseBoroRouteOptimization/Distance_Matrics.ipynb#X43sZmlsZQ%3D%3D?line=6'>7</a>\u001b[0m     long_lats \u001b[39m=\u001b[39m long_lats\u001b[39m.\u001b[39;49mappend(\u001b[39m'\u001b[39m\u001b[39m1\u001b[39m\u001b[39m'\u001b[39m)\n\u001b[1;32m      <a href='vscode-notebook-cell:/Users/rohitzacharia/Library/CloudStorage/SynologyDrive-ZDrive/Zachs%20Documents/Coding/DataExploration/DataKind/RiseBoro/RiseBoroRouteOptimization/Distance_Matrics.ipynb#X43sZmlsZQ%3D%3D?line=7'>8</a>\u001b[0m long_lats\n\u001b[1;32m     <a href='vscode-notebook-cell:/Users/rohitzacharia/Library/CloudStorage/SynologyDrive-ZDrive/Zachs%20Documents/Coding/DataExploration/DataKind/RiseBoro/RiseBoroRouteOptimization/Distance_Matrics.ipynb#X43sZmlsZQ%3D%3D?line=9'>10</a>\u001b[0m \u001b[39m# unprocessed_matrix = get_distance(((-73.9808731, 40.6584876), (-73.9461372, 40.6949719)))\u001b[39;00m\n",
      "\u001b[0;31mAttributeError\u001b[0m: 'NoneType' object has no attribute 'append'"
     ]
    }
   ],
   "source": [
    "\n",
    "long_lats = []\n",
    "\n",
    "long_lats.append(1)\n",
    "\n",
    "for UID in Unique_delivery_id['Deliv_ID']:\n",
    "    # long_lats = long_lats.append([Unique_delivery_id['long_new'], Unique_delivery_id['lat_new']])\n",
    "    long_lats = long_lats.append('1')\n",
    "long_lats\n",
    "\n",
    "# unprocessed_matrix = get_distance(((-73.9808731, 40.6584876), (-73.9461372, 40.6949719)))"
   ]
  },
  {
   "cell_type": "code",
   "execution_count": null,
   "metadata": {},
   "outputs": [],
   "source": []
  }
 ],
 "metadata": {
  "kernelspec": {
   "display_name": "Python 3",
   "language": "python",
   "name": "python3"
  },
  "language_info": {
   "codemirror_mode": {
    "name": "ipython",
    "version": 3
   },
   "file_extension": ".py",
   "mimetype": "text/x-python",
   "name": "python",
   "nbconvert_exporter": "python",
   "pygments_lexer": "ipython3",
   "version": "3.11.3"
  },
  "orig_nbformat": 4
 },
 "nbformat": 4,
 "nbformat_minor": 2
}
